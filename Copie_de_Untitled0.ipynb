{
  "nbformat": 4,
  "nbformat_minor": 0,
  "metadata": {
    "colab": {
      "provenance": [],
      "authorship_tag": "ABX9TyO5aBaWhyoYzmw1d7L/PokQ",
      "include_colab_link": true
    },
    "kernelspec": {
      "name": "python3",
      "display_name": "Python 3"
    },
    "language_info": {
      "name": "python"
    }
  },
  "cells": [
    {
      "cell_type": "markdown",
      "metadata": {
        "id": "view-in-github",
        "colab_type": "text"
      },
      "source": [
        "<a href=\"https://colab.research.google.com/github/missira-hub/M-LCA-WORK/blob/main/Copie_de_Untitled0.ipynb\" target=\"_parent\"><img src=\"https://colab.research.google.com/assets/colab-badge.svg\" alt=\"Open In Colab\"/></a>"
      ]
    },
    {
      "cell_type": "code",
      "execution_count": null,
      "metadata": {
        "colab": {
          "base_uri": "https://localhost:8080/"
        },
        "id": "yryW2cGBDW70",
        "outputId": "858738a2-0206-443a-f783-233c0940cf8a"
      },
      "outputs": [
        {
          "output_type": "stream",
          "name": "stdout",
          "text": [
            "Collecting memory_profiler\n",
            "  Downloading memory_profiler-0.61.0-py3-none-any.whl.metadata (20 kB)\n",
            "Requirement already satisfied: psutil in /usr/local/lib/python3.11/dist-packages (from memory_profiler) (5.9.5)\n",
            "Downloading memory_profiler-0.61.0-py3-none-any.whl (31 kB)\n",
            "Installing collected packages: memory_profiler\n",
            "Successfully installed memory_profiler-0.61.0\n"
          ]
        }
      ],
      "source": [
        "!pip install memory_profiler\n"
      ]
    },
    {
      "cell_type": "code",
      "source": [
        "import time\n",
        "import random\n",
        "from memory_profiler import memory_usage\n",
        "\n",
        "\n",
        "def binary_search(arr, low, high, x):\n",
        "\n",
        "    if high >= low:\n",
        "        mid = (high + low) // 2\n",
        "        if arr[mid] == x:\n",
        "            return mid\n",
        "        elif arr[mid] > x:\n",
        "            return binary_search(arr, low, mid - 1, x)\n",
        "        else:\n",
        "            return binary_search(arr, mid + 1, high, x)\n",
        "    else:\n",
        "        return -1\n",
        "\n",
        "def binary_search():\n",
        "\n",
        "  n=int(input(\"Enter number of elements:\"))\n",
        "\n",
        "  list1= sorted(random.sample(range(10,1000),n))\n",
        "  key=random.choice(list1)\n",
        "\n",
        "  print(\"Searching for\", key)\n",
        "\n",
        "\n",
        "start_time = time.time()\n",
        "binary_search()\n",
        "end_time = time.time ()\n",
        "print (\" Running time :\", end_time - start_time, \"seconds\")\n",
        "\n",
        "\n",
        "def search_with_memory ():\n",
        "  pass\n",
        "binary_search()\n",
        "mem_usage = memory_usage ( search_with_memory )\n",
        "print (\" Memory usage :\", max( mem_usage ) ,  \"MB\")\n"
      ],
      "metadata": {
        "colab": {
          "base_uri": "https://localhost:8080/"
        },
        "id": "3gQpD_KyDuHb",
        "outputId": "afa3cf0e-34c4-4b8f-d928-1801cb098278"
      },
      "execution_count": null,
      "outputs": [
        {
          "output_type": "stream",
          "name": "stdout",
          "text": [
            "Enter number of elements:10\n",
            "Searching for 466\n",
            " Running time : 6.057462215423584 seconds\n"
          ]
        }
      ]
    },
    {
      "cell_type": "code",
      "source": [
        "import time\n",
        "from memory_profiler import memory_usage\n",
        "\n",
        "\n",
        "def linear_Search(list1, n, key):\n",
        "    for i in range(0, n):\n",
        "        if (list1[i] == key):\n",
        "            return i\n",
        "    return -1\n",
        "\n",
        "def linear_Search():\n",
        "  n=int(input(\"Enter number of elements:\"))\n",
        "  list1=list(random.sample(range(10,1000),n))\n",
        "  key=random.choice(list1)\n",
        "\n",
        "  print(\"Searching for:\", key)\n",
        "\n",
        "\n",
        "start_time = time . time ()\n",
        "binary_search()\n",
        "end_time = time . time ()\n",
        "print (\" Running time :\", end_time - start_time, \"seconds\")\n",
        "\n",
        "def binary_search_with_memory():\n",
        "  pass\n",
        "\n",
        "binary_search()\n",
        "\n",
        "mem_usage = memory_usage ( search_with_memory )\n",
        "print (\" Memory usage :\", max( mem_usage ) ,  \"MB\")\n",
        "\n",
        "\n"
      ],
      "metadata": {
        "colab": {
          "base_uri": "https://localhost:8080/"
        },
        "id": "f1letnbrFiyz",
        "outputId": "0a5b0517-619e-4558-f9e4-f3fbb181f5c1"
      },
      "execution_count": null,
      "outputs": [
        {
          "output_type": "stream",
          "name": "stdout",
          "text": [
            " Running time : 1.6927719116210938e-05 seconds\n",
            " Memory usage : 280.94140625 MB\n"
          ]
        }
      ]
    }
  ]
}